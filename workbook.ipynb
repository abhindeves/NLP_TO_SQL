{
 "cells": [
  {
   "cell_type": "code",
   "execution_count": 43,
   "metadata": {},
   "outputs": [
    {
     "data": {
      "text/plain": [
       "'Learning OpenAI API can be a great opportunity for you to explore the world of artificial intelligence and machine learning. By mastering OpenAI API, you can create advanced AI models, develop innovative applications, and contribute to cutting-edge research in the field. It can also open up new career opportunities and help you stay updated with the latest trends in technology. So, go ahead and dive into learning OpenAI API - you never know where it might lead you!'"
      ]
     },
     "execution_count": 43,
     "metadata": {},
     "output_type": "execute_result"
    }
   ],
   "source": [
    "from openai import OpenAI\n",
    "import os\n",
    "\n",
    "client = OpenAI()\n",
    "\n",
    "completion = client.chat.completions.create(\n",
    "  model=\"gpt-3.5-turbo\",\n",
    "  messages=[\n",
    "    {\"role\":\"system\",\"content\":\"You are a helpfull assistant. Answer the questions in a very friendly manner.\"},\n",
    "    {\"role\":\"user\",\"content\":\"Why should i learn open AI API?\"}\n",
    "  ]\n",
    ")\n",
    "completion.choices[0].message.content"
   ]
  },
  {
   "cell_type": "code",
   "execution_count": 48,
   "metadata": {},
   "outputs": [],
   "source": [
    "import pandas as pd\n",
    "import sqlalchemy\n",
    "\n",
    "from sqlalchemy import create_engine\n",
    "from sqlalchemy import text\n"
   ]
  },
  {
   "cell_type": "code",
   "execution_count": 47,
   "metadata": {},
   "outputs": [],
   "source": [
    "df = pd.read_csv('car-mpg.csv')"
   ]
  },
  {
   "cell_type": "code",
   "execution_count": 49,
   "metadata": {},
   "outputs": [],
   "source": [
    "temp_db = create_engine('sqlite:///:memory:',echo=True)"
   ]
  },
  {
   "cell_type": "code",
   "execution_count": 50,
   "metadata": {},
   "outputs": [
    {
     "name": "stdout",
     "output_type": "stream",
     "text": [
      "2024-05-04 12:42:32,309 INFO sqlalchemy.engine.Engine BEGIN (implicit)\n",
      "2024-05-04 12:42:32,324 INFO sqlalchemy.engine.Engine PRAGMA main.table_info(\"car\")\n",
      "2024-05-04 12:42:32,327 INFO sqlalchemy.engine.Engine [raw sql] ()\n",
      "2024-05-04 12:42:32,331 INFO sqlalchemy.engine.Engine PRAGMA temp.table_info(\"car\")\n",
      "2024-05-04 12:42:32,333 INFO sqlalchemy.engine.Engine [raw sql] ()\n",
      "2024-05-04 12:42:32,343 INFO sqlalchemy.engine.Engine \n",
      "CREATE TABLE car (\n",
      "\t\"index\" BIGINT, \n",
      "\tmpg FLOAT, \n",
      "\tcyl BIGINT, \n",
      "\tdisp FLOAT, \n",
      "\thp TEXT, \n",
      "\twt BIGINT, \n",
      "\tacc FLOAT, \n",
      "\tyr BIGINT, \n",
      "\torigin BIGINT, \n",
      "\tcar_type BIGINT, \n",
      "\tcar_name TEXT\n",
      ")\n",
      "\n",
      "\n",
      "2024-05-04 12:42:32,345 INFO sqlalchemy.engine.Engine [no key 0.00173s] ()\n",
      "2024-05-04 12:42:32,351 INFO sqlalchemy.engine.Engine CREATE INDEX ix_car_index ON car (\"index\")\n",
      "2024-05-04 12:42:32,363 INFO sqlalchemy.engine.Engine [no key 0.01224s] ()\n",
      "2024-05-04 12:42:32,399 INFO sqlalchemy.engine.Engine INSERT INTO car (\"index\", mpg, cyl, disp, hp, wt, acc, yr, origin, car_type, car_name) VALUES (?, ?, ?, ?, ?, ?, ?, ?, ?, ?, ?)\n",
      "2024-05-04 12:42:32,400 INFO sqlalchemy.engine.Engine [generated in 0.01092s] [(0, 18.0, 8, 307.0, '130', 3504, 12.0, 70, 1, 0, 'chevrolet chevelle malibu'), (1, 15.0, 8, 350.0, '165', 3693, 11.5, 70, 1, 0, 'buick skylark 320'), (2, 18.0, 8, 318.0, '150', 3436, 11.0, 70, 1, 0, 'plymouth satellite'), (3, 16.0, 8, 304.0, '150', 3433, 12.0, 70, 1, 0, 'amc rebel sst'), (4, 17.0, 8, 302.0, '140', 3449, 10.5, 70, 1, 0, 'ford torino'), (5, 15.0, 8, 429.0, '198', 4341, 10.0, 70, 1, 0, 'ford galaxie 500'), (6, 14.0, 8, 454.0, '220', 4354, 9.0, 70, 1, 0, 'chevrolet impala'), (7, 14.0, 8, 440.0, '215', 4312, 8.5, 70, 1, 0, 'plymouth fury iii')  ... displaying 10 of 398 total bound parameter sets ...  (396, 28.0, 4, 120.0, '79', 2625, 18.6, 82, 1, 1, 'ford ranger'), (397, 31.0, 4, 119.0, '82', 2720, 19.4, 82, 1, 1, 'chevy s-10')]\n",
      "2024-05-04 12:42:32,405 INFO sqlalchemy.engine.Engine COMMIT\n"
     ]
    }
   ],
   "source": [
    "data = df.to_sql('car',con=temp_db)"
   ]
  },
  {
   "cell_type": "code",
   "execution_count": 52,
   "metadata": {},
   "outputs": [
    {
     "name": "stdout",
     "output_type": "stream",
     "text": [
      "2024-05-04 12:44:41,308 INFO sqlalchemy.engine.Engine BEGIN (implicit)\n",
      "2024-05-04 12:44:41,310 INFO sqlalchemy.engine.Engine SELECT * FROM CAR\n",
      "2024-05-04 12:44:41,313 INFO sqlalchemy.engine.Engine [cached since 19.61s ago] ()\n",
      "<sqlalchemy.engine.cursor.CursorResult object at 0x0000025EA0CDF000>\n",
      "2024-05-04 12:44:41,317 INFO sqlalchemy.engine.Engine ROLLBACK\n"
     ]
    }
   ],
   "source": [
    "with temp_db.connect() as conn:\n",
    "    result = conn.execute(text(\"SELECT * FROM CAR\"))"
   ]
  },
  {
   "cell_type": "code",
   "execution_count": 130,
   "metadata": {},
   "outputs": [],
   "source": [
    "def create_system_prompt(df):\n",
    "    \n",
    "    prompt = \"\"\"You are an SQL expert. Here is sqlite SQL table, with their properties:\n",
    "    \n",
    "    car({}) \n",
    "                \n",
    "your job is to write queries given a users request. Only Output the SQL query.\n",
    "Start with SELECT statement\"\"\".format(\",\".join(df.columns.tolist()))\n",
    "    return prompt"
   ]
  },
  {
   "cell_type": "code",
   "execution_count": 131,
   "metadata": {},
   "outputs": [],
   "source": [
    "def create_user_prompt():\n",
    "    q = input(\"Enter your text query: \")\n",
    "    return q"
   ]
  },
  {
   "cell_type": "code",
   "execution_count": 132,
   "metadata": {},
   "outputs": [],
   "source": [
    "sys = create_system_prompt(df)\n",
    "usr = create_user_prompt()\n",
    "\n",
    "completion = client.chat.completions.create(\n",
    "  model=\"gpt-3.5-turbo\",\n",
    "  messages=[\n",
    "    {\"role\":\"system\",\"content\":f\"{sys}\"},\n",
    "    {\"role\":\"user\",\"content\":f\"{usr}\"}\n",
    "  ],\n",
    "  stop = [';']\n",
    ")\n"
   ]
  },
  {
   "cell_type": "code",
   "execution_count": 134,
   "metadata": {},
   "outputs": [
    {
     "name": "stdout",
     "output_type": "stream",
     "text": [
      "SELECT car_name, COUNT(car_name) AS appearance_count\n",
      "FROM car\n",
      "GROUP BY car_name\n",
      "ORDER BY appearance_count DESC\n",
      "LIMIT 1\n"
     ]
    }
   ],
   "source": [
    "print(completion.choices[0].message.content)"
   ]
  },
  {
   "cell_type": "code",
   "execution_count": 135,
   "metadata": {},
   "outputs": [
    {
     "name": "stdout",
     "output_type": "stream",
     "text": [
      "2024-05-04 13:45:45,465 INFO sqlalchemy.engine.Engine BEGIN (implicit)\n",
      "2024-05-04 13:45:45,466 INFO sqlalchemy.engine.Engine SELECT car_name, COUNT(car_name) AS appearance_count\n",
      "FROM car\n",
      "GROUP BY car_name\n",
      "ORDER BY appearance_count DESC\n",
      "LIMIT 1\n",
      "2024-05-04 13:45:45,467 INFO sqlalchemy.engine.Engine [generated in 0.00241s] ()\n",
      "2024-05-04 13:45:45,476 INFO sqlalchemy.engine.Engine ROLLBACK\n",
      "[('ford pinto', 6)]\n"
     ]
    }
   ],
   "source": [
    "with temp_db.connect() as conn:\n",
    "    result = conn.execute(text(completion.choices[0].message.content))\n",
    "print(result.all())"
   ]
  },
  {
   "cell_type": "code",
   "execution_count": 136,
   "metadata": {},
   "outputs": [
    {
     "data": {
      "text/plain": [
       "[]"
      ]
     },
     "execution_count": 136,
     "metadata": {},
     "output_type": "execute_result"
    }
   ],
   "source": []
  },
  {
   "cell_type": "code",
   "execution_count": null,
   "metadata": {},
   "outputs": [],
   "source": []
  }
 ],
 "metadata": {
  "kernelspec": {
   "display_name": "base",
   "language": "python",
   "name": "python3"
  },
  "language_info": {
   "codemirror_mode": {
    "name": "ipython",
    "version": 3
   },
   "file_extension": ".py",
   "mimetype": "text/x-python",
   "name": "python",
   "nbconvert_exporter": "python",
   "pygments_lexer": "ipython3",
   "version": "3.11.7"
  }
 },
 "nbformat": 4,
 "nbformat_minor": 2
}
